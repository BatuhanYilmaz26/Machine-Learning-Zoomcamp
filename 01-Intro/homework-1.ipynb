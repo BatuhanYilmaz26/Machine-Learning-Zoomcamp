{
 "cells": [
  {
   "cell_type": "markdown",
   "id": "df85efb9",
   "metadata": {},
   "source": [
    "## Homework #1\n",
    "\n",
    "Watch the video with explanation [here](https://www.youtube.com/watch?v=DIbkxeVXBmU)."
   ]
  },
  {
   "cell_type": "code",
   "execution_count": 1,
   "id": "72e89307",
   "metadata": {},
   "outputs": [],
   "source": [
    "import numpy as np\n",
    "import pandas as pd"
   ]
  },
  {
   "cell_type": "markdown",
   "id": "6943ef47",
   "metadata": {},
   "source": [
    "\n",
    "### Question 1\n",
    "\n",
    "What's the version of NumPy that you installed? \n",
    "\n",
    "You can get the version information using the `__version__` field:\n",
    "\n",
    "```python\n",
    "np.__version__\n",
    "```"
   ]
  },
  {
   "cell_type": "code",
   "execution_count": 2,
   "id": "bb796686",
   "metadata": {},
   "outputs": [
    {
     "data": {
      "text/plain": [
       "'1.22.1'"
      ]
     },
     "execution_count": 2,
     "metadata": {},
     "output_type": "execute_result"
    }
   ],
   "source": [
    "np.__version__"
   ]
  },
  {
   "cell_type": "markdown",
   "id": "1ff307dc",
   "metadata": {},
   "source": [
    "### Question 2\n",
    "\n",
    "What's the version of Pandas? "
   ]
  },
  {
   "cell_type": "code",
   "execution_count": 3,
   "id": "e7cb4558",
   "metadata": {},
   "outputs": [
    {
     "data": {
      "text/plain": [
       "'1.3.5'"
      ]
     },
     "execution_count": 3,
     "metadata": {},
     "output_type": "execute_result"
    }
   ],
   "source": [
    "pd.__version__"
   ]
  },
  {
   "cell_type": "markdown",
   "id": "0e779bf2",
   "metadata": {},
   "source": [
    "### Getting the data \n",
    "\n",
    "For this homework, we'll use the same dataset as for the next session - the car price dataset.\n",
    "\n",
    "Download it from [here](https://raw.githubusercontent.com/alexeygrigorev/mlbookcamp-code/master/chapter-02-car-price/data.csv).\n",
    "\n",
    "You can do it with wget:\n",
    "\n",
    "```bash\n",
    "wget https://raw.githubusercontent.com/alexeygrigorev/mlbookcamp-code/master/chapter-02-car-price/data.csv\n",
    "```\n",
    "\n",
    "Or just open it with your browser and click \"Save as...\".\n"
   ]
  },
  {
   "cell_type": "code",
   "execution_count": 4,
   "id": "f1eb6e7f",
   "metadata": {},
   "outputs": [
    {
     "name": "stderr",
     "output_type": "stream",
     "text": [
      "--2022-07-11 15:29:46--  https://raw.githubusercontent.com/alexeygrigorev/mlbookcamp-code/master/chapter-02-car-price/data.csv\n",
      "Resolving raw.githubusercontent.com (raw.githubusercontent.com)... 185.199.110.133, 185.199.111.133, 185.199.109.133, ...\n",
      "Connecting to raw.githubusercontent.com (raw.githubusercontent.com)|185.199.110.133|:443... connected.\n",
      "HTTP request sent, awaiting response... 200 OK\n",
      "Length: 1475504 (1.4M) [text/plain]\n",
      "Saving to: 'hw-1.csv'\n",
      "\n",
      "     0K .......... .......... .......... .......... ..........  3%  634K 2s\n",
      "    50K .......... .......... .......... .......... ..........  6% 1.64M 1s\n",
      "   100K .......... .......... .......... .......... .......... 10% 1.10M 1s\n",
      "   150K .......... .......... .......... .......... .......... 13% 1.72M 1s\n",
      "   200K .......... .......... .......... .......... .......... 17% 1.69M 1s\n",
      "   250K .......... .......... .......... .......... .......... 20% 1.73M 1s\n",
      "   300K .......... .......... .......... .......... .......... 24% 1.73M 1s\n",
      "   350K .......... .......... .......... .......... .......... 27% 1.29M 1s\n",
      "   400K .......... .......... .......... .......... .......... 31% 1.73M 1s\n",
      "   450K .......... .......... .......... .......... .......... 34%  361K 1s\n",
      "   500K .......... .......... .......... .......... .......... 38% 2.18M 1s\n",
      "   550K .......... .......... .......... .......... .......... 41% 2.76M 1s\n",
      "   600K .......... .......... .......... .......... .......... 45% 3.34M 1s\n",
      "   650K .......... .......... .......... .......... .......... 48% 1.04M 1s\n",
      "   700K .......... .......... .......... .......... .......... 52% 2.45M 1s\n",
      "   750K .......... .......... .......... .......... .......... 55% 2.54M 0s\n",
      "   800K .......... .......... .......... .......... .......... 58% 3.38M 0s\n",
      "   850K .......... .......... .......... .......... .......... 62% 1.97M 0s\n",
      "   900K .......... .......... .......... .......... .......... 65%  347K 0s\n",
      "   950K .......... .......... .......... .......... .......... 69%  103M 0s\n",
      "  1000K .......... .......... .......... .......... .......... 72%  942K 0s\n",
      "  1050K .......... .......... .......... .......... .......... 76% 2.55M 0s\n",
      "  1100K .......... .......... .......... .......... .......... 79% 2.78M 0s\n",
      "  1150K .......... .......... .......... .......... .......... 83% 2.07M 0s\n",
      "  1200K .......... .......... .......... .......... .......... 86%  121M 0s\n",
      "  1250K .......... .......... .......... .......... .......... 90%  115M 0s\n",
      "  1300K .......... .......... .......... .......... .......... 93% 8.05M 0s\n",
      "  1350K .......... .......... .......... .......... .......... 97% 1.72M 0s\n",
      "  1400K .......... .......... .......... ..........           100% 2.00M=1.0s\n",
      "\n",
      "2022-07-11 15:29:48 (1.46 MB/s) - 'hw-1.csv' saved [1475504/1475504]\n",
      "\n"
     ]
    }
   ],
   "source": [
    "!wget https://raw.githubusercontent.com/alexeygrigorev/mlbookcamp-code/master/chapter-02-car-price/data.csv -O hw-1.csv"
   ]
  },
  {
   "cell_type": "markdown",
   "id": "357e59b2",
   "metadata": {},
   "source": [
    "> **Note**: I have wget installed separately, so if you're on Windows without WSL, you will need to download it\n",
    "\n",
    "Now read it with Pandas. "
   ]
  },
  {
   "cell_type": "code",
   "execution_count": 5,
   "id": "bdd199ad",
   "metadata": {},
   "outputs": [],
   "source": [
    "df = pd.read_csv('hw-1.csv')"
   ]
  },
  {
   "cell_type": "markdown",
   "id": "7c82c40c",
   "metadata": {},
   "source": [
    "### Question 3\n",
    "\n",
    "What's the average price of BMW cars in the dataset?"
   ]
  },
  {
   "cell_type": "code",
   "execution_count": 6,
   "id": "cd7bbfdf",
   "metadata": {},
   "outputs": [
    {
     "data": {
      "text/plain": [
       "61546.76347305389"
      ]
     },
     "execution_count": 6,
     "metadata": {},
     "output_type": "execute_result"
    }
   ],
   "source": [
    "df[df.Make == 'BMW'].MSRP.mean()"
   ]
  },
  {
   "cell_type": "markdown",
   "id": "ce263e6e",
   "metadata": {},
   "source": [
    "### Question 4\n",
    "\n",
    "Select a subset of cars after year 2015 (inclusive, i.e. 2015 and after). How many of them have missing values for Engine HP?"
   ]
  },
  {
   "cell_type": "code",
   "execution_count": 7,
   "id": "7e159409",
   "metadata": {},
   "outputs": [
    {
     "data": {
      "text/plain": [
       "51"
      ]
     },
     "execution_count": 7,
     "metadata": {},
     "output_type": "execute_result"
    }
   ],
   "source": [
    "df[df.Year >= 2015]['Engine HP'].isnull().sum()"
   ]
  },
  {
   "cell_type": "markdown",
   "id": "a170bded",
   "metadata": {},
   "source": [
    "### Question 5\n",
    "\n",
    "* Calculate the average \"Engine HP\" in the dataset. \n",
    "* Use the `fillna` method and to fill the missing values in \"Engine HP\" with the mean value from the previous step. \n",
    "* Now, calcualte the average of \"Engine HP\" again.\n",
    "* Has it changed? \n",
    "\n",
    "Round both means before answering this questions."
   ]
  },
  {
   "cell_type": "code",
   "execution_count": 8,
   "id": "cf1bb41f",
   "metadata": {},
   "outputs": [
    {
     "data": {
      "text/plain": [
       "249.38607007176023"
      ]
     },
     "execution_count": 8,
     "metadata": {},
     "output_type": "execute_result"
    }
   ],
   "source": [
    "mean_hp = df['Engine HP'].mean()\n",
    "mean_hp"
   ]
  },
  {
   "cell_type": "code",
   "execution_count": 9,
   "id": "e76393b7",
   "metadata": {},
   "outputs": [
    {
     "data": {
      "text/plain": [
       "249.38607007176023"
      ]
     },
     "execution_count": 9,
     "metadata": {},
     "output_type": "execute_result"
    }
   ],
   "source": [
    "df['Engine HP'].fillna(mean_hp).mean()"
   ]
  },
  {
   "cell_type": "markdown",
   "id": "790cd820",
   "metadata": {},
   "source": [
    "Filling NAs with 0 changes the mean of \"Engine HP\":"
   ]
  },
  {
   "cell_type": "code",
   "execution_count": 10,
   "id": "3c397387",
   "metadata": {},
   "outputs": [
    {
     "data": {
      "text/plain": [
       "247.94174920261878"
      ]
     },
     "execution_count": 10,
     "metadata": {},
     "output_type": "execute_result"
    }
   ],
   "source": [
    "df['Engine HP'].fillna(0).mean()"
   ]
  },
  {
   "cell_type": "markdown",
   "id": "ccdddd56",
   "metadata": {},
   "source": [
    "### Question 6\n",
    "\n",
    "* Select all the \"Rolls-Royce\" cars from the dataset.\n",
    "* Select only columns \"Engine HP\", \"Engine Cylinders\", \"highway MPG\".\n",
    "* Now drop all duplicated rows using `drop_duplicates` method (you should get a dataframe with 7 rows).\n",
    "* Get the underlying NumPy array. Let's call it `X`.\n",
    "* Compute matrix-matrix multiplication between the transpose of `X` and `X`. To get the transpose, use `X.T`. Let's call the result `XTX`.\n",
    "* Invert `XTX`.\n",
    "* What's the sum of all the elements of the result?"
   ]
  },
  {
   "cell_type": "code",
   "execution_count": 11,
   "id": "d8be8437",
   "metadata": {},
   "outputs": [],
   "source": [
    "df_rr = df[df.Make == \"Rolls-Royce\"]\n",
    "df_rr = df_rr[[\"Engine HP\", \"Engine Cylinders\", \"highway MPG\"]]\n",
    "df_rr = df_rr.drop_duplicates()"
   ]
  },
  {
   "cell_type": "code",
   "execution_count": 12,
   "id": "0c45d112",
   "metadata": {},
   "outputs": [
    {
     "data": {
      "text/plain": [
       "0.032212320677486125"
      ]
     },
     "execution_count": 12,
     "metadata": {},
     "output_type": "execute_result"
    }
   ],
   "source": [
    "X = df_rr.values\n",
    "XTX = X.T.dot(X)\n",
    "\n",
    "XTX_inv = np.linalg.inv(XTX)\n",
    "XTX_inv.sum()"
   ]
  },
  {
   "cell_type": "markdown",
   "id": "9a39fcb5",
   "metadata": {},
   "source": [
    "### Questions 7 \n",
    "\n",
    "* Create an array `y` with values `[1000, 1100, 900, 1200, 1000, 850, 1300]`.\n",
    "* Multiply the inverse of `XTX` with the transpose of `X`, and then multiply the result by `y`. Call the result `w`.\n",
    "* What's the value of the first element of `w`?."
   ]
  },
  {
   "cell_type": "code",
   "execution_count": 13,
   "id": "4b292550",
   "metadata": {},
   "outputs": [],
   "source": [
    "y = [1000, 1100, 900, 1200, 1000, 850, 1300]"
   ]
  },
  {
   "cell_type": "code",
   "execution_count": 14,
   "id": "176ea4b0",
   "metadata": {},
   "outputs": [],
   "source": [
    "w = XTX_inv.dot(X.T).dot(y)"
   ]
  },
  {
   "cell_type": "code",
   "execution_count": 15,
   "id": "a8ce14a4",
   "metadata": {},
   "outputs": [
    {
     "data": {
      "text/plain": [
       "0.19989598183188978"
      ]
     },
     "execution_count": 15,
     "metadata": {},
     "output_type": "execute_result"
    }
   ],
   "source": [
    "w[0]"
   ]
  },
  {
   "cell_type": "markdown",
   "id": "bef903ef",
   "metadata": {},
   "source": [
    "> **Note**: we just implemented normal equation\n",
    "\n",
    "$$w = (X^T X)^{-1} X^T y$$\n",
    "\n",
    "We'll talk about it more in the next week (Machine Learning for Regression)"
   ]
  },
  {
   "cell_type": "markdown",
   "id": "b12924ea",
   "metadata": {},
   "source": [
    "### Bonus\n",
    "\n",
    "Floating point arithmetics is not exact"
   ]
  },
  {
   "cell_type": "code",
   "execution_count": 16,
   "id": "7d7bf049",
   "metadata": {},
   "outputs": [
    {
     "data": {
      "text/plain": [
       "0.30000000000000004"
      ]
     },
     "execution_count": 16,
     "metadata": {},
     "output_type": "execute_result"
    }
   ],
   "source": [
    "0.1 + 0.2"
   ]
  },
  {
   "cell_type": "markdown",
   "id": "508e24bd",
   "metadata": {},
   "source": [
    "Adding the mean value doesn't change the resulting mean:"
   ]
  },
  {
   "cell_type": "code",
   "execution_count": 17,
   "id": "f2469c70",
   "metadata": {},
   "outputs": [
    {
     "data": {
      "text/plain": [
       "3.5"
      ]
     },
     "execution_count": 17,
     "metadata": {},
     "output_type": "execute_result"
    }
   ],
   "source": [
    "np.array([1, 2, 3, 4, 5, 6]).mean()"
   ]
  },
  {
   "cell_type": "code",
   "execution_count": 18,
   "id": "99a0ede1",
   "metadata": {},
   "outputs": [
    {
     "data": {
      "text/plain": [
       "3.5"
      ]
     },
     "execution_count": 18,
     "metadata": {},
     "output_type": "execute_result"
    }
   ],
   "source": [
    "np.array([1, 2, 3, 4, 5, 6, 3.5, 3.5, 3.5]).mean()"
   ]
  }
 ],
 "metadata": {
  "kernelspec": {
   "display_name": "Python 3.9.6 64-bit",
   "language": "python",
   "name": "python3"
  },
  "language_info": {
   "codemirror_mode": {
    "name": "ipython",
    "version": 3
   },
   "file_extension": ".py",
   "mimetype": "text/x-python",
   "name": "python",
   "nbconvert_exporter": "python",
   "pygments_lexer": "ipython3",
   "version": "3.9.6"
  },
  "vscode": {
   "interpreter": {
    "hash": "f8ee13a16f7ff347d089854b949fd5a4fdba136de942caaffeaf6bff99e7e7f9"
   }
  }
 },
 "nbformat": 4,
 "nbformat_minor": 5
}
